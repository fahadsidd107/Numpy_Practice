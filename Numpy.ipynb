{
 "cells": [
  {
   "cell_type": "code",
   "execution_count": 1,
   "id": "7df26405",
   "metadata": {},
   "outputs": [],
   "source": [
    "import numpy as np"
   ]
  },
  {
   "cell_type": "code",
   "execution_count": 2,
   "id": "39893fd5",
   "metadata": {},
   "outputs": [],
   "source": [
    "arr= [\"Fahad\",1,[1.22,4.7]]"
   ]
  },
  {
   "cell_type": "code",
   "execution_count": 3,
   "id": "356f5bc8",
   "metadata": {},
   "outputs": [
    {
     "name": "stdout",
     "output_type": "stream",
     "text": [
      "[['Fahad' 1 list([1.22, 4.7])]]\n"
     ]
    },
    {
     "name": "stderr",
     "output_type": "stream",
     "text": [
      "/tmp/ipykernel_6607/3169140000.py:1: VisibleDeprecationWarning: Creating an ndarray from ragged nested sequences (which is a list-or-tuple of lists-or-tuples-or ndarrays with different lengths or shapes) is deprecated. If you meant to do this, you must specify 'dtype=object' when creating the ndarray.\n",
      "  np_arr = np.array([arr])\n"
     ]
    }
   ],
   "source": [
    "np_arr = np.array([arr])\n",
    "print(np_arr)"
   ]
  },
  {
   "cell_type": "code",
   "execution_count": 4,
   "id": "c4ef3315",
   "metadata": {},
   "outputs": [
    {
     "data": {
      "text/plain": [
       "4.7"
      ]
     },
     "execution_count": 4,
     "metadata": {},
     "output_type": "execute_result"
    }
   ],
   "source": [
    "np_arr[0,2][1]"
   ]
  },
  {
   "cell_type": "code",
   "execution_count": 5,
   "id": "a404acf3",
   "metadata": {},
   "outputs": [
    {
     "data": {
      "text/plain": [
       "array([['Fahad', 1, list([1.22, 100])]], dtype=object)"
      ]
     },
     "execution_count": 5,
     "metadata": {},
     "output_type": "execute_result"
    }
   ],
   "source": [
    "np_arr[0,2][1]=100\n",
    "np_arr"
   ]
  },
  {
   "cell_type": "code",
   "execution_count": 6,
   "id": "b9c3a5de",
   "metadata": {},
   "outputs": [
    {
     "name": "stdout",
     "output_type": "stream",
     "text": [
      "['Fahad' 'Hafiza' 'Ahad']\n"
     ]
    }
   ],
   "source": [
    "string_arr = [\"Fahad\",\"Hafiza\",\"Ahad\"]\n",
    "np_string_arr = np.array(string_arr , np.str_)\n",
    "print(np_string_arr)"
   ]
  },
  {
   "cell_type": "code",
   "execution_count": 7,
   "id": "2fd66e96",
   "metadata": {},
   "outputs": [
    {
     "data": {
      "text/plain": [
       "(3,)"
      ]
     },
     "execution_count": 7,
     "metadata": {},
     "output_type": "execute_result"
    }
   ],
   "source": [
    "np_string_arr.shape"
   ]
  },
  {
   "cell_type": "code",
   "execution_count": 8,
   "id": "3fa7373d",
   "metadata": {},
   "outputs": [
    {
     "data": {
      "text/plain": [
       "dtype('<U6')"
      ]
     },
     "execution_count": 8,
     "metadata": {},
     "output_type": "execute_result"
    }
   ],
   "source": [
    "np_string_arr.dtype"
   ]
  },
  {
   "cell_type": "code",
   "execution_count": 9,
   "id": "08e6f115",
   "metadata": {},
   "outputs": [
    {
     "name": "stdout",
     "output_type": "stream",
     "text": [
      "2\n",
      "1\n"
     ]
    }
   ],
   "source": [
    "x=1\n",
    "y=2\n",
    "[x,y]=[y,x]\n",
    "print(x)\n",
    "print(y)"
   ]
  },
  {
   "cell_type": "markdown",
   "id": "3dca9837",
   "metadata": {},
   "source": [
    "# Array Creation in Numpy"
   ]
  },
  {
   "cell_type": "code",
   "execution_count": 10,
   "id": "3b7c0af8",
   "metadata": {},
   "outputs": [
    {
     "name": "stdout",
     "output_type": "stream",
     "text": [
      "============================ LIST ARRAY ===========================\n",
      "[[1 2 3]\n",
      " [4 5 6]\n",
      " [7 8 9]]\n",
      "============================== SHAPE ==============================\n",
      "(3, 3)\n",
      "=============================== DATA TYPE =========================\n",
      "int64\n",
      "=============================== SIZE ==============================\n",
      "9\n"
     ]
    }
   ],
   "source": [
    "#1.Conversion from other Python structures (i.e. lists and tuples)\n",
    "list_array = np.array([[1,2,3],[4,5,6],[7,8,9]])\n",
    "print(\"============================ LIST ARRAY ===========================\")\n",
    "print(list_array)\n",
    "print(\"============================== SHAPE ==============================\")\n",
    "print(list_array.shape)\n",
    "print(\"=============================== DATA TYPE =========================\")\n",
    "print(list_array.dtype)\n",
    "print(\"=============================== SIZE ==============================\")\n",
    "print(list_array.size)"
   ]
  },
  {
   "cell_type": "code",
   "execution_count": 14,
   "id": "c2c3c948",
   "metadata": {},
   "outputs": [
    {
     "name": "stdout",
     "output_type": "stream",
     "text": [
      "============================= ARANGE =============================\n",
      "[ 0  1  2  3  4  5  6  7  8  9 10 11 12 13 14 15 16 17 18 19 20 21 22 23\n",
      " 24 25 26 27 28 29 30 31 32 33 34 35 36 37 38 39 40 41 42 43 44 45 46 47\n",
      " 48 49 50 51 52 53 54 55 56 57 58 59 60 61 62 63 64 65 66 67 68 69 70 71\n",
      " 72 73 74 75 76 77 78 79 80 81 82 83 84 85 86 87 88 89 90 91 92 93 94 95\n",
      " 96 97 98]\n",
      "============================= ZEROS ==============================\n",
      "[[0. 0. 0. 0. 0. 0.]\n",
      " [0. 0. 0. 0. 0. 0.]\n",
      " [0. 0. 0. 0. 0. 0.]]\n",
      "============================= ONES ===============================\n",
      "[[1. 1. 1. 1. 1. 1. 1. 1. 1.]\n",
      " [1. 1. 1. 1. 1. 1. 1. 1. 1.]\n",
      " [1. 1. 1. 1. 1. 1. 1. 1. 1.]\n",
      " [1. 1. 1. 1. 1. 1. 1. 1. 1.]\n",
      " [1. 1. 1. 1. 1. 1. 1. 1. 1.]\n",
      " [1. 1. 1. 1. 1. 1. 1. 1. 1.]]\n",
      "============================= LINSPACE ===========================\n",
      "[1.         1.05263158 1.10526316 1.15789474 1.21052632 1.26315789\n",
      " 1.31578947 1.36842105 1.42105263 1.47368421 1.52631579 1.57894737\n",
      " 1.63157895 1.68421053 1.73684211 1.78947368 1.84210526 1.89473684\n",
      " 1.94736842 2.        ]\n",
      "============================= EMPTY ==============================\n",
      "[[1.22517569e-316 0.00000000e+000 6.91980011e-310 6.91979910e-310\n",
      "  6.91979996e-310]\n",
      " [6.91980010e-310 6.91979910e-310 6.91979910e-310 6.91979990e-310\n",
      "  6.91979990e-310]\n",
      " [6.91979990e-310 6.91979910e-310 6.91979990e-310 6.91979910e-310\n",
      "  6.91980012e-310]\n",
      " [6.91979910e-310 6.91979995e-310 3.21142670e-322 6.91980009e-310\n",
      "  6.91980009e-310]\n",
      " [6.91979912e-310 6.91979910e-310 6.91979910e-310 6.91979995e-310\n",
      "  1.02765654e-321]]\n",
      "========================== EMPTY LIKE ============================\n",
      "[1.         1.05263158 1.10526316 1.15789474 1.21052632 1.26315789\n",
      " 1.31578947 1.36842105 1.42105263 1.47368421 1.52631579 1.57894737\n",
      " 1.63157895 1.68421053 1.73684211 1.78947368 1.84210526 1.89473684\n",
      " 1.94736842 2.        ]\n",
      "========================== IDENTITY ===============================\n",
      "[[1. 0. 0. ... 0. 0. 0.]\n",
      " [0. 1. 0. ... 0. 0. 0.]\n",
      " [0. 0. 1. ... 0. 0. 0.]\n",
      " ...\n",
      " [0. 0. 0. ... 1. 0. 0.]\n",
      " [0. 0. 0. ... 0. 1. 0.]\n",
      " [0. 0. 0. ... 0. 0. 1.]]\n"
     ]
    }
   ],
   "source": [
    "#2.Intrinsic NumPy array creation functions (e.g. arange, ones, zeros, etc.)\n",
    "print(\"============================= ARANGE =============================\")\n",
    "arange = np.arange(99)\n",
    "print(arange)\n",
    "print(\"============================= ZEROS ==============================\")\n",
    "zeros = np.zeros((3,6))\n",
    "print(zeros)\n",
    "print(\"============================= ONES ===============================\")\n",
    "ones = np.ones((6,9))\n",
    "print(ones)\n",
    "print(\"============================= LINSPACE ===========================\")\n",
    "linspace = np.linspace (1,2,20)\n",
    "print(linspace )\n",
    "print(\"============================= EMPTY ==============================\")\n",
    "empty = np.empty ((5,5))\n",
    "print(empty)\n",
    "print(\"========================== EMPTY LIKE ============================\")\n",
    "empty_like = np.empty_like(linspace)\n",
    "print(empty_like)\n",
    "print(\"========================== IDENTITY ===============================\")\n",
    "identity = np.identity(45)\n",
    "print(identity)"
   ]
  },
  {
   "cell_type": "code",
   "execution_count": 17,
   "id": "c41e567d",
   "metadata": {},
   "outputs": [
    {
     "name": "stdout",
     "output_type": "stream",
     "text": [
      "[[ 0  1  2  3  4  5  6  7  8  9 10 11 12 13 14 15 16 17 18 19 20 21 22 23\n",
      "  24 25 26 27 28 29 30 31 32]\n",
      " [33 34 35 36 37 38 39 40 41 42 43 44 45 46 47 48 49 50 51 52 53 54 55 56\n",
      "  57 58 59 60 61 62 63 64 65]\n",
      " [66 67 68 69 70 71 72 73 74 75 76 77 78 79 80 81 82 83 84 85 86 87 88 89\n",
      "  90 91 92 93 94 95 96 97 98]]\n",
      "[ 0  1  2  3  4  5  6  7  8  9 10 11 12 13 14 15 16 17 18 19 20 21 22 23\n",
      " 24 25 26 27 28 29 30 31 32 33 34 35 36 37 38 39 40 41 42 43 44 45 46 47\n",
      " 48 49 50 51 52 53 54 55 56 57 58 59 60 61 62 63 64 65 66 67 68 69 70 71\n",
      " 72 73 74 75 76 77 78 79 80 81 82 83 84 85 86 87 88 89 90 91 92 93 94 95\n",
      " 96 97 98]\n"
     ]
    }
   ],
   "source": [
    "arr = arange.reshape(3,33)\n",
    "print(arr)\n",
    "arr = arr.ravel()\n",
    "print(arr)"
   ]
  },
  {
   "cell_type": "markdown",
   "id": "0e826f7c",
   "metadata": {},
   "source": [
    "# Axis"
   ]
  },
  {
   "cell_type": "code",
   "execution_count": 18,
   "id": "5d5be2af",
   "metadata": {},
   "outputs": [
    {
     "name": "stdout",
     "output_type": "stream",
     "text": [
      "[[1 2 3]\n",
      " [4 5 6]\n",
      " [7 8 9]]\n"
     ]
    }
   ],
   "source": [
    "x= [[1,2,3],[4,5,6],[7,8,9]]\n",
    "arr  = np.array(x)\n",
    "print(arr)"
   ]
  },
  {
   "cell_type": "code",
   "execution_count": 21,
   "id": "dd10432c",
   "metadata": {},
   "outputs": [
    {
     "data": {
      "text/plain": [
       "array([12, 15, 18])"
      ]
     },
     "execution_count": 21,
     "metadata": {},
     "output_type": "execute_result"
    }
   ],
   "source": [
    "#sum of all columns\n",
    "arr.sum(axis=0)"
   ]
  },
  {
   "cell_type": "code",
   "execution_count": 22,
   "id": "93a77ef3",
   "metadata": {},
   "outputs": [
    {
     "data": {
      "text/plain": [
       "array([ 6, 15, 24])"
      ]
     },
     "execution_count": 22,
     "metadata": {},
     "output_type": "execute_result"
    }
   ],
   "source": [
    "#sum of all rows\n",
    "arr.sum(axis=1)"
   ]
  },
  {
   "cell_type": "code",
   "execution_count": 23,
   "id": "a132c30a",
   "metadata": {},
   "outputs": [
    {
     "data": {
      "text/plain": [
       "array([[1, 4, 7],\n",
       "       [2, 5, 8],\n",
       "       [3, 6, 9]])"
      ]
     },
     "execution_count": 23,
     "metadata": {},
     "output_type": "execute_result"
    }
   ],
   "source": [
    "#transpose\n",
    "arr.T"
   ]
  },
  {
   "cell_type": "code",
   "execution_count": 31,
   "id": "2c9d81ef",
   "metadata": {},
   "outputs": [
    {
     "name": "stdout",
     "output_type": "stream",
     "text": [
      "1\n",
      "2\n",
      "3\n",
      "4\n",
      "5\n",
      "6\n",
      "7\n",
      "8\n",
      "9\n"
     ]
    }
   ],
   "source": [
    "#flatting thenumpy array\n",
    "for item in arr.flat:\n",
    "    print(item)"
   ]
  },
  {
   "cell_type": "code",
   "execution_count": 32,
   "id": "5614ac87",
   "metadata": {},
   "outputs": [
    {
     "data": {
      "text/plain": [
       "2"
      ]
     },
     "execution_count": 32,
     "metadata": {},
     "output_type": "execute_result"
    }
   ],
   "source": [
    "#number of dimension\n",
    "arr.ndim"
   ]
  },
  {
   "cell_type": "code",
   "execution_count": 33,
   "id": "63e8ab56",
   "metadata": {},
   "outputs": [
    {
     "data": {
      "text/plain": [
       "72"
      ]
     },
     "execution_count": 33,
     "metadata": {},
     "output_type": "execute_result"
    }
   ],
   "source": [
    "arr.nbytes"
   ]
  },
  {
   "cell_type": "code",
   "execution_count": 39,
   "id": "9f5c9d86",
   "metadata": {},
   "outputs": [
    {
     "name": "stdout",
     "output_type": "stream",
     "text": [
      "3\n",
      "0\n"
     ]
    }
   ],
   "source": [
    "#indexes with miniimum and maximum value\n",
    "list_ = np.array([9,8,7,6])\n",
    "print(list_.argmin())\n",
    "print(list_.argmax())"
   ]
  },
  {
   "cell_type": "code",
   "execution_count": 40,
   "id": "5ab2aacb",
   "metadata": {},
   "outputs": [
    {
     "data": {
      "text/plain": [
       "array([5, 2, 1, 0, 3, 4])"
      ]
     },
     "execution_count": 40,
     "metadata": {},
     "output_type": "execute_result"
    }
   ],
   "source": [
    "#arrangment of indexes in sorted form\n",
    "list_ = np.array([7,6,4,7,9,2])\n",
    "list_.argsort()"
   ]
  },
  {
   "cell_type": "code",
   "execution_count": 44,
   "id": "8185110f",
   "metadata": {},
   "outputs": [
    {
     "name": "stdout",
     "output_type": "stream",
     "text": [
      "___________ARGMAX______________\n",
      "4\n",
      "___________ARGMAX WITH AXIS = 0______________\n",
      "[2 1 0]\n",
      "___________ARGMAX WITH AXIS = 1______________\n",
      "[2 1 0]\n",
      "___________ARGSORT______________\n",
      "[[0 1 2]\n",
      " [2 0 1]\n",
      " [2 1 0]]\n"
     ]
    }
   ],
   "source": [
    "#argmax and argsort with 2d numpy array \n",
    "x_list= [[22,55,121],[14,544,6],[77,38,19]]\n",
    "x  = np.array(x_list)\n",
    "print('___________ARGMAX______________')\n",
    "print(x.argmax())\n",
    "print('___________ARGMAX WITH AXIS = 0______________')\n",
    "print(x.argmax(axis=0))\n",
    "print('___________ARGMAX WITH AXIS = 1______________')\n",
    "print(x.argmax(axis=1))\n",
    "print('___________ARGSORT______________')\n",
    "print(x.argsort())"
   ]
  },
  {
   "cell_type": "markdown",
   "id": "35ac5729",
   "metadata": {},
   "source": [
    "# Mathematical Operations\n"
   ]
  },
  {
   "cell_type": "code",
   "execution_count": 52,
   "id": "85130f88",
   "metadata": {},
   "outputs": [
    {
     "name": "stdout",
     "output_type": "stream",
     "text": [
      "__________ADDITION___________\n",
      "[[ 2  6 10]\n",
      " [ 6 10 14]\n",
      " [10 14 18]]\n",
      "__________MULTIPLICATION______\n",
      "[[ 1  8 21]\n",
      " [ 8 25 48]\n",
      " [21 48 81]]\n",
      "__________SQUARE ROOT_________\n",
      "[[1.         1.41421356 1.73205081]\n",
      " [2.         2.23606798 2.44948974]\n",
      " [2.64575131 2.82842712 3.        ]]\n",
      "_________MIN/MAX______________\n",
      "9\n",
      "1\n"
     ]
    }
   ],
   "source": [
    "a = np.array([[1,2,3],[4,5,6],[7,8,9]])\n",
    "b = np.array([[1,4,7],[2,5,8],[3,6,9]])\n",
    "print(\"__________ADDITION___________\")\n",
    "print(a + b)\n",
    "print(\"__________MULTIPLICATION______\")\n",
    "print(a * b)\n",
    "print(\"__________SQUARE ROOT_________\")\n",
    "print(np.sqrt(a))\n",
    "print(\"_________MIN/MAX______________\")\n",
    "print(a.max())\n",
    "print(a.min())"
   ]
  },
  {
   "cell_type": "markdown",
   "id": "884a6bb6",
   "metadata": {},
   "source": [
    "# Finding element in array "
   ]
  },
  {
   "cell_type": "code",
   "execution_count": 53,
   "id": "73692e65",
   "metadata": {},
   "outputs": [
    {
     "data": {
      "text/plain": [
       "(array([1, 2, 2, 2]), array([2, 0, 1, 2]))"
      ]
     },
     "execution_count": 53,
     "metadata": {},
     "output_type": "execute_result"
    }
   ],
   "source": [
    "#where\n",
    "a = np.array([[1,2,3],[4,5,6],[7,8,9]])\n",
    "b = np.array([[1,4,7],[2,5,8],[3,6,9]])\n",
    "np.where(a>5)"
   ]
  },
  {
   "cell_type": "code",
   "execution_count": 54,
   "id": "64650dca",
   "metadata": {},
   "outputs": [
    {
     "data": {
      "text/plain": [
       "9"
      ]
     },
     "execution_count": 54,
     "metadata": {},
     "output_type": "execute_result"
    }
   ],
   "source": [
    "np.count_nonzero(a)"
   ]
  },
  {
   "cell_type": "code",
   "execution_count": 55,
   "id": "b631b84e",
   "metadata": {},
   "outputs": [
    {
     "data": {
      "text/plain": [
       "(array([0, 0, 0, 1, 1, 1, 2, 2, 2]), array([0, 1, 2, 0, 1, 2, 0, 1, 2]))"
      ]
     },
     "execution_count": 55,
     "metadata": {},
     "output_type": "execute_result"
    }
   ],
   "source": [
    "np.nonzero(a)"
   ]
  },
  {
   "cell_type": "markdown",
   "id": "c992a7e9",
   "metadata": {},
   "source": [
    "# Size of element"
   ]
  },
  {
   "cell_type": "code",
   "execution_count": 56,
   "id": "69eba2b7",
   "metadata": {},
   "outputs": [
    {
     "data": {
      "text/plain": [
       "32"
      ]
     },
     "execution_count": 56,
     "metadata": {},
     "output_type": "execute_result"
    }
   ],
   "source": [
    "import sys\n",
    "py_ar = [0,4,55,2]\n",
    "np_ar = np.array(py_ar)"
   ]
  },
  {
   "cell_type": "code",
   "execution_count": 58,
   "id": "bc948fac",
   "metadata": {},
   "outputs": [
    {
     "data": {
      "text/plain": [
       "112"
      ]
     },
     "execution_count": 58,
     "metadata": {},
     "output_type": "execute_result"
    }
   ],
   "source": [
    "sys.getsizeof(1) * len(py_ar)"
   ]
  },
  {
   "cell_type": "code",
   "execution_count": 60,
   "id": "f8793563",
   "metadata": {},
   "outputs": [
    {
     "data": {
      "text/plain": [
       "32"
      ]
     },
     "execution_count": 60,
     "metadata": {},
     "output_type": "execute_result"
    }
   ],
   "source": [
    "np_ar.itemsize * np_ar.size"
   ]
  },
  {
   "cell_type": "markdown",
   "id": "57968535",
   "metadata": {},
   "source": [
    "for more : https://docs.scipy.org/doc/numpy-1.6.0/reference/generated/numpy.ndarray.html"
   ]
  },
  {
   "cell_type": "code",
   "execution_count": null,
   "id": "8b500d74",
   "metadata": {},
   "outputs": [],
   "source": []
  }
 ],
 "metadata": {
  "kernelspec": {
   "display_name": "Python 3 (ipykernel)",
   "language": "python",
   "name": "python3"
  },
  "language_info": {
   "codemirror_mode": {
    "name": "ipython",
    "version": 3
   },
   "file_extension": ".py",
   "mimetype": "text/x-python",
   "name": "python",
   "nbconvert_exporter": "python",
   "pygments_lexer": "ipython3",
   "version": "3.9.13"
  }
 },
 "nbformat": 4,
 "nbformat_minor": 5
}
